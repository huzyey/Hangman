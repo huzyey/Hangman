{
  "nbformat": 4,
  "nbformat_minor": 0,
  "metadata": {
    "colab": {
      "provenance": []
    },
    "kernelspec": {
      "name": "python3",
      "display_name": "Python 3"
    },
    "language_info": {
      "name": "python"
    }
  },
  "cells": [
    {
      "cell_type": "code",
      "execution_count": 1,
      "metadata": {
        "colab": {
          "base_uri": "https://localhost:8080/"
        },
        "id": "_qs0ev3AZ9G4",
        "outputId": "7d18f1c1-f951-4c4e-d146-75acbcbde2fe"
      },
      "outputs": [
        {
          "output_type": "stream",
          "name": "stdout",
          "text": [
            "Welcome to Hangman!\n",
            "Guess the word\n",
            "_ _ _ _ \n",
            "Guess a character: a\n",
            "_ a _ a \n",
            "Guess a character: d\n",
            "d a _ a \n",
            "Guess a character: v\n",
            "Wrong!\n",
            "You have 5 more guesses\n",
            "d a _ a \n",
            "Guess a character: b\n",
            "Wrong!\n",
            "You have 4 more guesses\n",
            "d a _ a \n",
            "Guess a character: t\n",
            "d a t a \n",
            "You won!\n"
          ]
        }
      ],
      "source": [
        "import random\n",
        "\n",
        "words = [\"python\", \"computer\", \"programming\", \"code\", \"algorithm\", \"data\"]\n",
        "word = random.choice(words)\n",
        "\n",
        "print(\"Welcome to Hangman!\")\n",
        "print(\"Guess the word\")\n",
        "\n",
        "guesses = ''\n",
        "turns = 6\n",
        "\n",
        "while turns > 0:\n",
        "    failed = 0\n",
        "    for char in word:\n",
        "        if char in guesses:\n",
        "            print(char, end=\" \")\n",
        "        else:\n",
        "            print(\"_\", end=\" \")\n",
        "            failed += 1\n",
        "\n",
        "    if failed == 0:\n",
        "        print(\"\\nYou won!\")\n",
        "        break\n",
        "\n",
        "    guess = input(\"\\nGuess a character: \")\n",
        "    guesses += guess\n",
        "\n",
        "    if guess not in word:\n",
        "        turns -= 1\n",
        "        print(\"Wrong!\")\n",
        "        print(\"You have\", turns, \"more guesses\")\n",
        "\n",
        "        if turns == 0:\n",
        "            print(\"You lost! The word was\", word)\n",
        "        else:\n",
        "            continue"
      ]
    }
  ]
}